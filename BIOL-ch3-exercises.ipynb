{
 "cells": [
  {
   "cell_type": "code",
   "execution_count": 3,
   "metadata": {},
   "outputs": [
    {
     "name": "stdout",
     "output_type": "stream",
     "text": [
      "ATCGATCGATCGATCGACTGACTAGTCATAGCTATGCATGTAGCTACTCGATCGATCGATCGatcgatcgatc gatcgatcgatcatgcTATCATCGATCGATATCGATGCATCGACTACTAT\n"
     ]
    }
   ],
   "source": [
    "#Needed background\n",
    "\n",
    "DNA = \"ATCGATCGATCGATCGACTGACTAGTCATAGCTATGCATGTAGCTACTCGATCGATCGATCGATCGATCGATC GATCGATCGATCATGCTATCATCGATCGATATCGATGCATCGACTACTAT\" \n",
    "ex1 = DNA[0:62] \n",
    "intron = DNA[62:90] \n",
    "ex2 = DNA[90:10000] \n",
    "print(ex1 + intron.lower() + ex2)\n"
   ]
  },
  {
   "cell_type": "code",
   "execution_count": 4,
   "metadata": {},
   "outputs": [
    {
     "data": {
      "text/plain": [
       "28"
      ]
     },
     "execution_count": 4,
     "metadata": {},
     "output_type": "execute_result"
    }
   ],
   "source": [
    "# open and read \n",
    "#DNAfile = open(\"genomic_dna.txt\") \n",
    "#DNA = DNAfile.read()\n",
    "\n",
    "\n",
    "###Since we didnt have the file from the chapter, \n",
    "#I still wrote the code used to do so, \n",
    "#but just used the output from the previous chapter to complete the question###\n",
    "\n",
    "\n",
    "# extract the bits of DNA seq \n",
    "ex1 = DNA[0:62] \n",
    "intron = DNA[62:90] \n",
    "ex2 = DNA[90:10000]\n",
    "\n",
    "# open the two outputs \n",
    "cfile = open(\"codingDNA.txt\", \"w\") \n",
    "noncfile = open(\"noncodingDNA.txt\", \"w\")\n",
    "\n",
    "# write the sequences \n",
    "cfile.write(ex1 + ex2) \n",
    "noncfile.write(intron)\n"
   ]
  },
  {
   "cell_type": "code",
   "execution_count": 5,
   "metadata": {},
   "outputs": [
    {
     "data": {
      "text/plain": [
       "32"
      ]
     },
     "execution_count": 5,
     "metadata": {},
     "output_type": "execute_result"
    }
   ],
   "source": [
    "#question 2 \n",
    "\n",
    "#making variables\n",
    "h1 = \"ABC123\" \n",
    "h2 = \"DEF456\" \n",
    "h3 = \"HIJ789\" \n",
    "seq1 = \"ATCGTACGATCGATCGATCGCTAGACGTATCG\" \n",
    "seq2 = \"actgatcgacgatcgatcgatcacgact\" \n",
    "seq3 = \"ACTGAC-ACTGT--ACTGTA----CATGTG\"\n",
    "\n",
    "# make a new \n",
    "output = open(\"sequences.fasta\", \"w\") \n",
    "\n",
    "# write the header and sequence for seq1 \n",
    "output.write('>' + h1 + '\\n' + seq1 + '\\n') \n",
    "\n",
    "# write the header and uppercase sequences for seq2 \n",
    "output.write('>' + h2 + '\\n' + seq2.upper() + '\\n') \n",
    "\n",
    "# write the header and sequence for seq3 with hyphens removed \n",
    "output.write('>' + h3 + '\\n' + seq3.replace('-', '') + '\\n') \n"
   ]
  },
  {
   "cell_type": "code",
   "execution_count": 7,
   "metadata": {},
   "outputs": [
    {
     "data": {
      "text/plain": [
       "33"
      ]
     },
     "execution_count": 7,
     "metadata": {},
     "output_type": "execute_result"
    }
   ],
   "source": [
    "#question 3\n",
    "\n",
    "#variables \n",
    "h1 = \"ABC123\" \n",
    "h2 = \"DEF456\" \n",
    "h3 = \"HIJ789\" \n",
    "\n",
    "seq1 = \"ATCGTACGATCGATCGATCGCTAGACGTATCG\" \n",
    "seq2 = \"actgatcgacgatcgatcgatcacgact\" \n",
    "seq3 = \"ACTGAC-ACTGT—ACTGTA----CATGTG\" \n",
    " \n",
    "# make files \n",
    "output1 = open(h1 + \".fasta\", \"w\") \n",
    "output2 = open(h2 + \".fasta\", \"w\") \n",
    "output3 = open(h3 + \".fasta\", \"w\") \n",
    " \n",
    "# write to each output file \n",
    "output1.write('>' + h1 + '\\n' + seq1 + '\\n') \n",
    "output2.write('>' + h2 + '\\n' + seq2.upper() + '\\n') \n",
    "output3.write('>' + h3 + '\\n' + seq3.replace('-', '') + '\\n')"
   ]
  }
 ],
 "metadata": {
  "kernelspec": {
   "display_name": "Python 3",
   "language": "python",
   "name": "python3"
  },
  "language_info": {
   "codemirror_mode": {
    "name": "ipython",
    "version": 3
   },
   "file_extension": ".py",
   "mimetype": "text/x-python",
   "name": "python",
   "nbconvert_exporter": "python",
   "pygments_lexer": "ipython3",
   "version": "3.7.1"
  }
 },
 "nbformat": 4,
 "nbformat_minor": 2
}
