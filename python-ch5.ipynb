{
 "cells": [
  {
   "cell_type": "code",
   "execution_count": 4,
   "metadata": {},
   "outputs": [],
   "source": [
    "#part one\n",
    "\n",
    "def get_aa_percentage(protein, aa):\n",
    "# convert both inputs to upper case \n",
    "    protein = protein.upper() \n",
    "    aa = aa.upper()\n",
    "    aa_count = protein.count(aa) \n",
    "    protein_length = len(protein) \n",
    "    percentage = aa_count * 100 / protein_length \n",
    "    return percentage\n"
   ]
  },
  {
   "cell_type": "code",
   "execution_count": 5,
   "metadata": {},
   "outputs": [],
   "source": [
    "#part two\n",
    "\n",
    "\n",
    "def get_aa_percentage(protein, aa_list=['A','I','L','M','F','W','Y','V']):\n",
    "    protein = protein.upper()     \n",
    "    protein_length = len(protein)     \n",
    "    total = 0     \n",
    "    for aa in aa_list:         \n",
    "        aa = aa.upper()         \n",
    "        aa_count = protein.count(aa)         \n",
    "        total = total + aa_count     \n",
    "        percentage = total * 100 / protein_length     \n",
    "        return percentage"
   ]
  }
 ],
 "metadata": {
  "kernelspec": {
   "display_name": "Python 3",
   "language": "python",
   "name": "python3"
  },
  "language_info": {
   "codemirror_mode": {
    "name": "ipython",
    "version": 3
   },
   "file_extension": ".py",
   "mimetype": "text/x-python",
   "name": "python",
   "nbconvert_exporter": "python",
   "pygments_lexer": "ipython3",
   "version": "3.7.1"
  }
 },
 "nbformat": 4,
 "nbformat_minor": 2
}
