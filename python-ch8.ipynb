{
 "cells": [
  {
   "cell_type": "code",
   "execution_count": 6,
   "metadata": {},
   "outputs": [],
   "source": [
    "gen = { 'ATA':'I', 'ATC':'I', 'ATT':'I', 'ATG':'M', 'ACA':'T', \n",
    "           'ACC':'T', 'ACG':'T', 'ACT':'T', 'AAC':'N', 'AAT':'N', \n",
    "           'AAA':'K', 'AAG':'K', 'AGC':'S', 'AGT':'S', 'AGA':'R', \n",
    "           'AGG':'R', 'CTA':'L', 'CTC':'L', 'CTG':'L', 'CTT':'L', \n",
    "           'CCA':'P', 'CCC':'P', 'CCG':'P', 'CCT':'P', 'CAC':'H', \n",
    "           'CAT':'H', 'CAA':'Q', 'CAG':'Q', 'CGA':'R', 'CGC':'R', \n",
    "           'CGG':'R', 'CGT':'R', 'GTA':'V', 'GTC':'V', 'GTG':'V', \n",
    "           'GTT':'V', 'GCA':'A', 'GCC':'A', 'GCG':'A', 'GCT':'A', \n",
    "           'GAC':'D', 'GAT':'D', 'GAA':'E', 'GAG':'E', 'GGA':'G', \n",
    "           'GGC':'G', 'GGG':'G', 'GGT':'G', 'TCA':'S', 'TCC':'S',\n",
    "           'TCG':'S', 'TCT':'S', 'TTC':'F', 'TTT':'F', 'TTA':'L', \n",
    "           'TTG':'L', 'TAC':'Y', 'TAT':'Y', 'TAA':'_', 'TAG':'_',\n",
    "           'TGC':'C', 'TGT':'C', 'TGA':'_', 'TGG':'W'}\n"
   ]
  },
  {
   "cell_type": "code",
   "execution_count": 7,
   "metadata": {},
   "outputs": [],
   "source": [
    "def translate_dna(dna):     \n",
    "    lcs = len(dna) - 2     \n",
    "    p = \"\"     \n",
    "    for start in range(0,lcs,3):         \n",
    "        codon = dna[start:start+3]         \n",
    "        aa = gen.get(codon.upper(), 'X')         \n",
    "        p = p + aa     \n",
    "    return p"
   ]
  },
  {
   "cell_type": "code",
   "execution_count": 8,
   "metadata": {},
   "outputs": [
    {
     "name": "stdout",
     "output_type": "stream",
     "text": [
      "MFG\n",
      "IDRSLLIDQ\n",
      "TDRSLLTYR\n",
      "TIDRXVRSYS\n"
     ]
    }
   ],
   "source": [
    "print(translate_dna(\"ATGTTCGGT\")) \n",
    "print(translate_dna(\"ATCGATCGATCGTTGCTTATCGATCAG\")) \n",
    "print(translate_dna(\"actgatcgtagcttgcttacgtatcgtat\")) \n",
    "print(translate_dna(\"ACGATCGATCGTNACGTACGATCGTACTCG\")) "
   ]
  }
 ],
 "metadata": {
  "kernelspec": {
   "display_name": "Python 3",
   "language": "python",
   "name": "python3"
  },
  "language_info": {
   "codemirror_mode": {
    "name": "ipython",
    "version": 3
   },
   "file_extension": ".py",
   "mimetype": "text/x-python",
   "name": "python",
   "nbconvert_exporter": "python",
   "pygments_lexer": "ipython3",
   "version": "3.7.1"
  }
 },
 "nbformat": 4,
 "nbformat_minor": 2
}
