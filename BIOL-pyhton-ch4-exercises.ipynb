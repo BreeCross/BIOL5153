{
 "cells": [
  {
   "cell_type": "code",
   "execution_count": 2,
   "metadata": {},
   "outputs": [
    {
     "name": "stdout",
     "output_type": "stream",
     "text": [
      "processed sequence with length 43\n",
      "processed sequence with length 38\n",
      "processed sequence with length 49\n",
      "processed sequence with length 34\n",
      "processed sequence with length 48\n"
     ]
    }
   ],
   "source": [
    "#question 1\n",
    "# open the input file \n",
    "file = open(\"input.txt\") \n",
    " \n",
    "# open the output file \n",
    "output = open(\"trimmed.txt\", \"w\") \n",
    " \n",
    "for dna in file:\n",
    "    # calculate the position    \n",
    "    lastChar = len(dna) \n",
    "\n",
    "    # substring from the 15th char    \n",
    "    trimmed = dna[14:lastChar] \n",
    " \n",
    "    # print out the trimmed     \n",
    "    output.write(trimmed) \n",
    " \n",
    "    # print out the length     \n",
    "    print(\"processed sequence with length \" + str(len(trimmed))) "
   ]
  },
  {
   "cell_type": "code",
   "execution_count": 8,
   "metadata": {},
   "outputs": [],
   "source": [
    "#question 2\n",
    "\n",
    "# open the genomic dna file and read the contents \n",
    "genomic = open(\"genomic_dna.txt\").read() \n",
    " \n",
    "# open the exons locations file \n",
    "exon = open(\"exons.txt\") \n",
    " \n",
    "# create a variable to hold the coding sequence \n",
    "csequence = \"\" \n",
    " \n",
    "# go through each line in the exon locations file \n",
    "for line in exon: \n",
    " \n",
    "    # split the line using a comma     \n",
    "    positions = line.split(',') \n",
    " \n",
    "    # get the start and stop positions     \n",
    "    start = int(positions[0])     \n",
    "    stop = int(positions[1]) \n",
    " \n",
    "    # extract the exon from the genomic dna     \n",
    "    exon = genomic[start:stop] \n",
    " \n",
    "    # append the exon to the end of the current coding sequence     \n",
    "    csequence = csequence + exon \n",
    "    \n",
    "#write the coding sequence to an output file \n",
    "output = open(\"coding_sequence.txt\", \"w\") \n",
    "output.write(csequence) \n",
    "output.close() "
   ]
  },
  {
   "cell_type": "code",
   "execution_count": null,
   "metadata": {},
   "outputs": [],
   "source": []
  }
 ],
 "metadata": {
  "kernelspec": {
   "display_name": "Python 3",
   "language": "python",
   "name": "python3"
  },
  "language_info": {
   "codemirror_mode": {
    "name": "ipython",
    "version": 3
   },
   "file_extension": ".py",
   "mimetype": "text/x-python",
   "name": "python",
   "nbconvert_exporter": "python",
   "pygments_lexer": "ipython3",
   "version": "3.7.1"
  }
 },
 "nbformat": 4,
 "nbformat_minor": 2
}
